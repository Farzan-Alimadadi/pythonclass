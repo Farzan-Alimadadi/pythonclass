{
 "cells": [
  {
   "cell_type": "code",
   "execution_count": 13,
   "metadata": {},
   "outputs": [
    {
     "name": "stdout",
     "output_type": "stream",
     "text": [
      "257.0\n",
      "768.0\n",
      "2\n",
      "2.0\n",
      "0\n",
      "False\n",
      "True\n",
      "True\n",
      "False\n",
      "True\n",
      "False\n"
     ]
    }
   ],
   "source": [
    "a = 2**10\n",
    "b = 2**9\n",
    "Num_of_Nums = (a - b) + 1 \n",
    "Median = (Num_of_Nums + 1) / 2\n",
    "Sum_of_Nums = ((a + b) * Num_of_Nums) // 2\n",
    "Average = Sum_of_Nums / Num_of_Nums\n",
    "\n",
    "print(Median)\n",
    "print(Average)\n",
    "print(a // b)\n",
    "print(a / b)\n",
    "print(a % b)\n",
    "print(a == b)\n",
    "print(a != b)\n",
    "print(a > b)\n",
    "print(a < b)\n",
    "print(a >= b)\n",
    "print(a <= b)"
   ]
  }
 ],
 "metadata": {
  "kernelspec": {
   "display_name": "Python 3",
   "language": "python",
   "name": "python3"
  },
  "language_info": {
   "codemirror_mode": {
    "name": "ipython",
    "version": 3
   },
   "file_extension": ".py",
   "mimetype": "text/x-python",
   "name": "python",
   "nbconvert_exporter": "python",
   "pygments_lexer": "ipython3",
   "version": "3.11.0 (main, Oct 24 2022, 18:26:48) [MSC v.1933 64 bit (AMD64)]"
  },
  "orig_nbformat": 4,
  "vscode": {
   "interpreter": {
    "hash": "92cd67c267e5e0e6edde44222cf49957f319786531eedca38667ccf8e2c8fd0f"
   }
  }
 },
 "nbformat": 4,
 "nbformat_minor": 2
}
