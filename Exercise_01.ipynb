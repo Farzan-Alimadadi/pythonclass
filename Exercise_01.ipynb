{
 "cells": [
  {
   "cell_type": "code",
   "execution_count": 3,
   "metadata": {},
   "outputs": [
    {
     "name": "stdout",
     "output_type": "stream",
     "text": [
      "[[    0     1     2 ...   431   432   433]\n",
      " [  434   435   436 ...   865   866   867]\n",
      " [  868   869   870 ...  1299  1300  1301]\n",
      " ...\n",
      " [64232 64233 64234 ... 64663 64664 64665]\n",
      " [64666 64667 64668 ... 65097 65098 65099]\n",
      " [65100 65101 65102 ... 65531 65532 65533]]\n"
     ]
    }
   ],
   "source": [
    "import numpy as np\n",
    "a=np.arange (0,65534)\n",
    "a.shape=(151,434)\n",
    "print (a)"
   ]
  },
  {
   "cell_type": "code",
   "execution_count": null,
   "metadata": {},
   "outputs": [],
   "source": [
    "x = [1,1,1,1,1,1,2,2,2,2,3,3,3,3,3,4,5,6,7,7,7,7,7,7,9,9,9,11,13,13,13,13,13,16,16,17,17]\n",
    "y = [3,3,3,3,3,5,6,7,7,7,7,7,7,10,15,15,15,17,17,17,19,19,19,]\n",
    "z = [13,13,13,13,13,13,13,13,13,13,13,13,13,17,17,18,18,18,18,18]\n",
    "import matplotlib.pyplot as plt\n",
    "plt.hist(x,y,z)\n",
    "plt.show()"
   ]
  }
 ],
 "metadata": {
  "kernelspec": {
   "display_name": "Python 3",
   "language": "python",
   "name": "python3"
  },
  "language_info": {
   "codemirror_mode": {
    "name": "ipython",
    "version": 3
   },
   "file_extension": ".py",
   "mimetype": "text/x-python",
   "name": "python",
   "nbconvert_exporter": "python",
   "pygments_lexer": "ipython3",
   "version": "3.11.0"
  },
  "orig_nbformat": 4,
  "vscode": {
   "interpreter": {
    "hash": "92cd67c267e5e0e6edde44222cf49957f319786531eedca38667ccf8e2c8fd0f"
   }
  }
 },
 "nbformat": 4,
 "nbformat_minor": 2
}
